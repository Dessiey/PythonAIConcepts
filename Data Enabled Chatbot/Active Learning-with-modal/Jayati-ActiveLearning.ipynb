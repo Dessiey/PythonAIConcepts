{
 "cells": [
  {
   "cell_type": "code",
   "execution_count": 1,
   "metadata": {},
   "outputs": [
    {
     "name": "stderr",
     "output_type": "stream",
     "text": [
      "/home/jayati/anaconda3/envs/python2/lib/python2.7/site-packages/h5py/__init__.py:36: FutureWarning: Conversion of the second argument of issubdtype from `float` to `np.floating` is deprecated. In future, it will be treated as `np.float64 == np.dtype(float).type`.\n",
      "  from ._conv import register_converters as _register_converters\n",
      "Using TensorFlow backend.\n"
     ]
    }
   ],
   "source": [
    "import keras\n",
    "from keras.preprocessing import sequence\n",
    "import numpy as np\n",
    "import numpy\n",
    "from keras.datasets import imdb\n",
    "from keras.models import Sequential\n",
    "from keras.layers import Dense\n",
    "from keras.layers import Flatten\n",
    "from keras.layers.embeddings import Embedding\n",
    "from keras.preprocessing import sequence\n",
    "from keras.layers import Dense, Dropout\n",
    "from keras.wrappers.scikit_learn import KerasClassifier\n",
    "from keras.layers.convolutional import Conv1D\n",
    "from keras.layers.convolutional import MaxPooling1D\n",
    "from tensorflow import set_random_seed\n",
    "\n",
    "# compute accuracy without mekeras method\n",
    "from sklearn.metrics import accuracy_score\n",
    "\n",
    "# fix random seed for reproducibility\n",
    "import random"
   ]
  },
  {
   "cell_type": "code",
   "execution_count": 2,
   "metadata": {},
   "outputs": [],
   "source": [
    "from numpy.random import seed\n",
    "seed(1)\n",
    "from tensorflow import set_random_seed\n",
    "set_random_seed(2)\n"
   ]
  },
  {
   "cell_type": "code",
   "execution_count": 3,
   "metadata": {},
   "outputs": [],
   "source": [
    "import numpy as np\n",
    "from keras.datasets import mnist\n",
    "\n",
    "# read training data\n",
    "(X_train, y_train), (X_test, y_test) = mnist.load_data()\n",
    "X_trainset = X_train.reshape(60000, 28, 28, 1).astype('float32') / 255\n",
    "X_test = X_test.reshape(10000, 28, 28, 1).astype('float32') / 255\n",
    "\n",
    "y_trainset = keras.utils.to_categorical(y_train, 10)\n",
    "y_test = keras.utils.to_categorical(y_test, 10)\n",
    "\n",
    "X_trainset = X_trainset[:6000]\n",
    "y_trainset = y_trainset[:6000]\n",
    "\n",
    "#test data\n",
    "test_size = 100\n",
    "idx = np.random.choice(range(len(X_test)), size=test_size, replace=False)\n",
    "X_test = X_test[idx]\n",
    "y_test = y_test[idx]\n",
    "\n",
    "train_size = 2000\n",
    "idx = np.random.choice(range(len(X_trainset)), size=train_size, replace=False)\n",
    "\n",
    "batch_size = X_train.shape[0]/5\n",
    "num_epochs = 1\n",
    "step = 200"
   ]
  },
  {
   "cell_type": "code",
   "execution_count": 4,
   "metadata": {},
   "outputs": [],
   "source": [
    "import keras\n",
    "from keras.models import Sequential\n",
    "from keras.layers import Dense, Dropout, Flatten, Conv2D, MaxPooling2D\n",
    "from keras.wrappers.scikit_learn import KerasClassifier\n",
    "\n",
    "\n",
    "def mymodel():\n",
    "    model = Sequential()\n",
    "    model.add(Conv2D(32, kernel_size=(3, 3), activation='relu', input_shape=(28, 28, 1)))\n",
    "    model.add(Conv2D(64, (3, 3), activation='relu'))\n",
    "    model.add(MaxPooling2D(pool_size=(2, 2)))\n",
    "    model.add(Dropout(0.25))\n",
    "    model.add(Flatten())\n",
    "    model.add(Dense(128, activation='relu'))\n",
    "    model.add(Dropout(0.5))\n",
    "    model.add(Dense(10, activation='softmax'))\n",
    "\n",
    "    model.compile(loss='categorical_crossentropy', optimizer='adadelta', metrics=['accuracy'])\n",
    "    \n",
    "    return model"
   ]
  },
  {
   "cell_type": "code",
   "execution_count": 5,
   "metadata": {},
   "outputs": [
    {
     "name": "stdout",
     "output_type": "stream",
     "text": [
      "Epoch 1/1\n",
      "2000/2000 [==============================] - 18s 9ms/step - loss: 2.2999 - acc: 0.1235\n"
     ]
    }
   ],
   "source": [
    "from modAL.models import ActiveLearner\n",
    "classifier = KerasClassifier(mymodel)\n",
    "# initialize ActiveLearner\n",
    "from modAL.models import ActiveLearner\n",
    "\n",
    "# initialize ActiveLearner\n",
    "learner = ActiveLearner(estimator=classifier,X_training=X_trainset[idx],batch_size=batch_size,\n",
    "                        y_training=y_trainset[idx], epochs=num_epochs,verbose=1, \n",
    "                        callbacks=None, validation_split=0.0, \n",
    "                        validation_data=None, shuffle=True, \n",
    "                        class_weight=None, sample_weight=None, \n",
    "                        initial_epoch=0, steps_per_epoch=None,\n",
    "                        validation_steps=None)"
   ]
  },
  {
   "cell_type": "code",
   "execution_count": 6,
   "metadata": {
    "scrolled": true
   },
   "outputs": [
    {
     "name": "stdout",
     "output_type": "stream",
     "text": [
      "100/100 [==============================] - 0s 4ms/step\n",
      "AC - acc:  0.63\n"
     ]
    }
   ],
   "source": [
    "#print( \"AC - acc:  \" + str(learner.score(X_test, y_test)))\n",
    "old_acc = learner.score(X_test, y_test)\n",
    "print( \"AC - acc:  \" + str(old_acc))"
   ]
  },
  {
   "cell_type": "code",
   "execution_count": 7,
   "metadata": {},
   "outputs": [],
   "source": [
    "pool_idx = np.setdiff1d(range(len(X_trainset)),idx)"
   ]
  },
  {
   "cell_type": "code",
   "execution_count": 8,
   "metadata": {},
   "outputs": [],
   "source": [
    "X_pool = X_trainset\n",
    "y_pool = y_trainset"
   ]
  },
  {
   "cell_type": "code",
   "execution_count": 9,
   "metadata": {},
   "outputs": [
    {
     "name": "stdout",
     "output_type": "stream",
     "text": [
      "Query no. 1\n",
      "Epoch 1/1\n",
      "2200/2200 [==============================] - 21s 10ms/step - loss: 1.0391 - acc: 0.6627\n",
      "100/100 [==============================] - 1s 6ms/step\n",
      "Accuracy after query 1: 0.9000\n",
      "Query no. 2\n",
      "Epoch 1/1\n",
      "2400/2400 [==============================] - 25s 10ms/step - loss: 0.9681 - acc: 0.6937\n",
      "100/100 [==============================] - 1s 7ms/step\n",
      "Accuracy after query 2: 0.9300\n",
      "Query no. 3\n",
      "Epoch 1/1\n",
      "2600/2600 [==============================] - 24s 9ms/step - loss: 0.9406 - acc: 0.7081\n",
      "100/100 [==============================] - 1s 6ms/step\n",
      "Accuracy after query 3: 0.8700\n",
      "Query no. 4\n",
      "Epoch 1/1\n",
      "2800/2800 [==============================] - 26s 9ms/step - loss: 0.9041 - acc: 0.7021\n",
      "100/100 [==============================] - 1s 7ms/step\n",
      "Accuracy after query 4: 0.9100\n",
      "Query no. 5\n",
      "Epoch 1/1\n",
      "3000/3000 [==============================] - 29s 10ms/step - loss: 0.8127 - acc: 0.7350\n",
      "100/100 [==============================] - 1s 8ms/step\n",
      "Accuracy after query 5: 0.8900\n",
      "Query no. 6\n",
      "Epoch 1/1\n",
      "3200/3200 [==============================] - 35s 11ms/step - loss: 0.7701 - acc: 0.7572\n",
      "100/100 [==============================] - 1s 7ms/step\n",
      "Accuracy after query 6: 0.9500\n",
      "Query no. 7\n",
      "Epoch 1/1\n",
      "3400/3400 [==============================] - 35s 10ms/step - loss: 0.8228 - acc: 0.7368\n",
      "100/100 [==============================] - 1s 9ms/step\n",
      "Accuracy after query 7: 0.9300\n",
      "Query no. 8\n",
      "Epoch 1/1\n",
      "3600/3600 [==============================] - 35s 10ms/step - loss: 0.7787 - acc: 0.7514\n",
      "100/100 [==============================] - 1s 11ms/step\n",
      "Accuracy after query 8: 0.9100\n",
      "Query no. 9\n",
      "Epoch 1/1\n",
      "3800/3800 [==============================] - 37s 10ms/step - loss: 0.7785 - acc: 0.7424\n",
      "100/100 [==============================] - 1s 9ms/step\n",
      "Accuracy after query 9: 0.9500\n",
      "Query no. 10\n",
      "Epoch 1/1\n",
      "4000/4000 [==============================] - 39s 10ms/step - loss: 0.7746 - acc: 0.7412\n",
      "100/100 [==============================] - 1s 9ms/step\n",
      "Accuracy after query 10: 0.9600\n",
      "Query no. 11\n",
      "Epoch 1/1\n",
      "4200/4200 [==============================] - 41s 10ms/step - loss: 0.7333 - acc: 0.7648\n",
      "100/100 [==============================] - 1s 9ms/step\n",
      "Accuracy after query 11: 0.9200\n",
      "Query no. 12\n",
      "Epoch 1/1\n",
      "4400/4400 [==============================] - 35s 8ms/step - loss: 0.7219 - acc: 0.7741\n",
      "100/100 [==============================] - 1s 10ms/step\n",
      "Accuracy after query 12: 0.9300\n",
      "Query no. 13\n",
      "Epoch 1/1\n",
      "4600/4600 [==============================] - 38s 8ms/step - loss: 0.7253 - acc: 0.7702\n",
      "100/100 [==============================] - 1s 12ms/step\n",
      "Accuracy after query 13: 0.9100\n",
      "Query no. 14\n",
      "Epoch 1/1\n",
      "4800/4800 [==============================] - 37s 8ms/step - loss: 0.6614 - acc: 0.7885\n",
      "100/100 [==============================] - 1s 10ms/step\n",
      "Accuracy after query 14: 0.9100\n",
      "Query no. 15\n",
      "Epoch 1/1\n",
      "5000/5000 [==============================] - 39s 8ms/step - loss: 0.6561 - acc: 0.7936\n",
      "100/100 [==============================] - 1s 10ms/step\n",
      "Accuracy after query 15: 0.9400\n",
      "Query no. 16\n",
      "Epoch 1/1\n",
      "5200/5200 [==============================] - 26s 5ms/step - loss: 0.6917 - acc: 0.7827\n",
      "100/100 [==============================] - 1s 6ms/step\n",
      "Accuracy after query 16: 0.9300\n",
      "Query no. 17\n",
      "Epoch 1/1\n",
      "5400/5400 [==============================] - 25s 5ms/step - loss: 0.6202 - acc: 0.7989\n",
      "100/100 [==============================] - 1s 8ms/step\n",
      "Accuracy after query 17: 0.9600\n",
      "Query no. 18\n",
      "Epoch 1/1\n",
      "5600/5600 [==============================] - 26s 5ms/step - loss: 0.5900 - acc: 0.8170\n",
      "100/100 [==============================] - 1s 10ms/step\n",
      "Accuracy after query 18: 0.9500\n",
      "Query no. 19\n",
      "Epoch 1/1\n",
      "5800/5800 [==============================] - 22s 4ms/step - loss: 0.5892 - acc: 0.8129\n",
      "100/100 [==============================] - 1s 7ms/step\n",
      "Accuracy after query 19: 0.9700\n",
      "Query no. 20\n",
      "Epoch 1/1\n",
      "6000/6000 [==============================] - 37s 6ms/step - loss: 0.5350 - acc: 0.8373\n",
      "100/100 [==============================] - 1s 7ms/step\n",
      "Accuracy after query 20: 0.9600\n"
     ]
    }
   ],
   "source": [
    "# the active learning loop\n",
    "n_queries = len(pool_idx)/step\n",
    "performance_history =[]\n",
    "\n",
    "for idx in range(n_queries):\n",
    "    print('Query no. %d' % (idx + 1))\n",
    "    query_idx, query_instance = learner.query(X_pool[pool_idx], n_instances=step, verbose=0)\n",
    "    learner.teach(\n",
    "                  X=X_pool[query_idx], \n",
    "                  y=y_pool[query_idx], \n",
    "                  only_new=False,\n",
    "                  verbose=1,epochs=num_epochs,callbacks=None, validation_split=0.0, \n",
    "                    validation_data=None, shuffle=True, \n",
    "                    class_weight=None, sample_weight=None, \n",
    "                    initial_epoch=0, steps_per_epoch=None,\n",
    "                    validation_steps=None\n",
    "                 )\n",
    "    # remove queried instance from pool\n",
    "    pool_idx = np.setdiff1d(pool_idx, query_idx)\n",
    "    \n",
    "    model_accuracy = learner.score(X_test, y_test)\n",
    "    print('Accuracy after query {n}: {acc:0.4f}'.format(n=idx + 1, acc=model_accuracy))\n",
    "    \n",
    "    # Save our model's performance for plotting.\n",
    "    performance_history.append(model_accuracy)"
   ]
  },
  {
   "cell_type": "code",
   "execution_count": 10,
   "metadata": {},
   "outputs": [],
   "source": [
    "#Add the starting accuracy to list\n",
    "#acc_list =[]\n",
    "#acc_list = performance_history\n",
    "#acc_list.insert(0,old_acc)"
   ]
  },
  {
   "cell_type": "code",
   "execution_count": 11,
   "metadata": {},
   "outputs": [],
   "source": [
    "performance_history = [old_acc]+performance_history"
   ]
  },
  {
   "cell_type": "code",
   "execution_count": 12,
   "metadata": {},
   "outputs": [],
   "source": [
    "from matplotlib import pyplot as plt\n",
    "import seaborn as sns\n",
    "plt.figure(figsize=(15,8))\n",
    "sns.set_style(\"whitegrid\")\n",
    "sns.pointplot(x=range(train_size,len(X_pool)+1,step), y=performance_history, markers=\"o\",linestyles=\"-\")\n",
    "plt.grid(True)"
   ]
  },
  {
   "cell_type": "code",
   "execution_count": 13,
   "metadata": {},
   "outputs": [
    {
     "data": {
      "text/plain": [
       "[0.63,\n",
       " 0.9,\n",
       " 0.93,\n",
       " 0.87,\n",
       " 0.91,\n",
       " 0.89,\n",
       " 0.95,\n",
       " 0.93,\n",
       " 0.91,\n",
       " 0.95,\n",
       " 0.96,\n",
       " 0.92,\n",
       " 0.93,\n",
       " 0.91,\n",
       " 0.91,\n",
       " 0.94,\n",
       " 0.93,\n",
       " 0.96,\n",
       " 0.95,\n",
       " 0.97,\n",
       " 0.96]"
      ]
     },
     "execution_count": 13,
     "metadata": {},
     "output_type": "execute_result"
    }
   ],
   "source": [
    "performance_history"
   ]
  },
  {
   "cell_type": "code",
   "execution_count": null,
   "metadata": {},
   "outputs": [],
   "source": []
  }
 ],
 "metadata": {
  "kernelspec": {
   "display_name": "Python 2",
   "language": "python",
   "name": "python2"
  },
  "language_info": {
   "codemirror_mode": {
    "name": "ipython",
    "version": 2
   },
   "file_extension": ".py",
   "mimetype": "text/x-python",
   "name": "python",
   "nbconvert_exporter": "python",
   "pygments_lexer": "ipython2",
   "version": "2.7.15"
  }
 },
 "nbformat": 4,
 "nbformat_minor": 2
}
