{
 "cells": [
  {
   "cell_type": "code",
   "execution_count": 1,
   "metadata": {},
   "outputs": [
    {
     "name": "stderr",
     "output_type": "stream",
     "text": [
      "/home/jayati/anaconda3/envs/python2/lib/python2.7/site-packages/h5py/__init__.py:36: FutureWarning: Conversion of the second argument of issubdtype from `float` to `np.floating` is deprecated. In future, it will be treated as `np.float64 == np.dtype(float).type`.\n",
      "  from ._conv import register_converters as _register_converters\n",
      "Using TensorFlow backend.\n"
     ]
    }
   ],
   "source": [
    "import keras\n",
    "from keras.preprocessing import sequence\n",
    "import numpy as np\n",
    "import numpy\n",
    "from keras.datasets import imdb\n",
    "from keras.models import Sequential\n",
    "from keras.layers import Dense\n",
    "from keras.layers import Flatten\n",
    "from keras.layers.embeddings import Embedding\n",
    "from keras.preprocessing import sequence\n",
    "from keras.layers import Dense, Dropout\n",
    "from keras.wrappers.scikit_learn import KerasClassifier\n",
    "from keras.layers.convolutional import Conv1D\n",
    "from keras.layers.convolutional import MaxPooling1D\n",
    "from tensorflow import set_random_seed\n",
    "\n",
    "# compute accuracy without mekeras method\n",
    "from sklearn.metrics import accuracy_score\n",
    "\n",
    "# fix random seed for reproducibility\n",
    "import random"
   ]
  },
  {
   "cell_type": "code",
   "execution_count": 2,
   "metadata": {},
   "outputs": [],
   "source": [
    "from numpy.random import seed\n",
    "seed(1)\n",
    "from tensorflow import set_random_seed\n",
    "set_random_seed(2)"
   ]
  },
  {
   "cell_type": "code",
   "execution_count": 3,
   "metadata": {},
   "outputs": [],
   "source": [
    "import numpy as np\n",
    "from keras.datasets import mnist\n",
    "\n",
    "# read training data\n",
    "(X_train, y_train), (X_test, y_test) = mnist.load_data()\n",
    "X_trainset = X_train.reshape(60000, 28, 28, 1).astype('float32') / 255\n",
    "X_test = X_test.reshape(10000, 28, 28, 1).astype('float32') / 255\n",
    "\n",
    "y_trainset = keras.utils.to_categorical(y_train, 10)\n",
    "y_test = keras.utils.to_categorical(y_test, 10)\n",
    "\n",
    "X_trainset = X_trainset[:6000]\n",
    "y_trainset = y_trainset[:6000]\n",
    "\n",
    "#test data\n",
    "test_size = 100\n",
    "idx = np.random.choice(range(len(X_test)), size=test_size, replace=False)\n",
    "X_test = X_test[idx]\n",
    "y_test = y_test[idx]\n",
    "\n",
    "train_size = 2000\n",
    "idx = np.random.choice(range(len(X_trainset)), size=train_size, replace=False)\n",
    "\n",
    "batch_size = X_train.shape[0]/5\n",
    "num_epochs = 1\n",
    "step = 200"
   ]
  },
  {
   "cell_type": "code",
   "execution_count": 4,
   "metadata": {},
   "outputs": [],
   "source": [
    "import keras\n",
    "from keras.models import Sequential\n",
    "from keras.layers import Dense, Dropout, Flatten, Conv2D, MaxPooling2D\n",
    "from keras.wrappers.scikit_learn import KerasClassifier\n",
    "\n",
    "\n",
    "def mymodel():\n",
    "    model = Sequential()\n",
    "    model.add(Conv2D(32, kernel_size=(3, 3), activation='relu', input_shape=(28, 28, 1)))\n",
    "    model.add(Conv2D(64, (3, 3), activation='relu'))\n",
    "    model.add(MaxPooling2D(pool_size=(2, 2)))\n",
    "    model.add(Dropout(0.25))\n",
    "    model.add(Flatten())\n",
    "    model.add(Dense(128, activation='relu'))\n",
    "    model.add(Dropout(0.5))\n",
    "    model.add(Dense(10, activation='softmax'))\n",
    "\n",
    "    model.compile(loss='categorical_crossentropy', optimizer='adadelta', metrics=['accuracy'])\n",
    "    \n",
    "    return model"
   ]
  },
  {
   "cell_type": "code",
   "execution_count": 5,
   "metadata": {},
   "outputs": [],
   "source": [
    "model = mymodel()\n"
   ]
  },
  {
   "cell_type": "markdown",
   "metadata": {},
   "source": [
    "\n",
    "history = model.fit(X_trainset[idx], y_trainset[idx], \n",
    "                    batch_size=batch_size, \n",
    "                    epochs=num_epochs, \n",
    "                    verbose=1, \n",
    "                    callbacks=None, validation_split=0.0, \n",
    "                    validation_data=None, shuffle=True, \n",
    "                    class_weight=None, sample_weight=None, \n",
    "                    initial_epoch=0, steps_per_epoch=None,\n",
    "                    validation_steps=None)"
   ]
  },
  {
   "cell_type": "markdown",
   "metadata": {},
   "source": [
    "pred = model.predict(x=X_test)\n",
    "y_pred = [ elem.argmax() for elem in pred]\n",
    "y_true = [ elem.argmax() for elem in y_test]"
   ]
  },
  {
   "cell_type": "markdown",
   "metadata": {},
   "source": [
    "print( \"RS - acc:  \" + str(accuracy_score(y_pred,y_true)))"
   ]
  },
  {
   "cell_type": "code",
   "execution_count": 6,
   "metadata": {},
   "outputs": [],
   "source": [
    "X_pool = X_trainset\n",
    "y_pool = y_trainset"
   ]
  },
  {
   "cell_type": "code",
   "execution_count": 7,
   "metadata": {
    "scrolled": true
   },
   "outputs": [
    {
     "name": "stdout",
     "output_type": "stream",
     "text": [
      "pool_idx = (4000,)\n",
      "train_idx = (2000,)\n",
      "Epoch 1/1\n",
      "2000/2000 [==============================] - 16s 8ms/step - loss: 2.2999 - acc: 0.1235\n",
      "Accuracy after query 2000: 0.6300\n",
      "batch_idx = (200,)\n",
      "pool_idx = (4000,)\n",
      "train_idx = (2200,)\n",
      "Epoch 1/1\n",
      "2200/2200 [==============================] - 18s 8ms/step - loss: 2.1917 - acc: 0.3750\n",
      "Accuracy after query 2200: 0.6800\n",
      "batch_idx = (200,)\n",
      "pool_idx = (3800,)\n",
      "train_idx = (2400,)\n",
      "Epoch 1/1\n",
      "2400/2400 [==============================] - 18s 7ms/step - loss: 2.0098 - acc: 0.4679\n",
      "Accuracy after query 2400: 0.6900\n",
      "batch_idx = (200,)\n",
      "pool_idx = (3600,)\n",
      "train_idx = (2600,)\n",
      "Epoch 1/1\n",
      "2600/2600 [==============================] - 23s 9ms/step - loss: 1.7516 - acc: 0.5400\n",
      "Accuracy after query 2600: 0.5700\n",
      "batch_idx = (200,)\n",
      "pool_idx = (3400,)\n",
      "train_idx = (2800,)\n",
      "Epoch 1/1\n",
      "2800/2800 [==============================] - 22s 8ms/step - loss: 1.6559 - acc: 0.4679\n",
      "Accuracy after query 2800: 0.4200\n",
      "batch_idx = (200,)\n",
      "pool_idx = (3200,)\n",
      "train_idx = (3000,)\n",
      "Epoch 1/1\n",
      "3000/3000 [==============================] - 24s 8ms/step - loss: 2.0917 - acc: 0.3307\n",
      "Accuracy after query 3000: 0.5800\n",
      "batch_idx = (200,)\n",
      "pool_idx = (3000,)\n",
      "train_idx = (3200,)\n",
      "Epoch 1/1\n",
      "3200/3200 [==============================] - 25s 8ms/step - loss: 1.6383 - acc: 0.4800\n",
      "Accuracy after query 3200: 0.7000\n",
      "batch_idx = (200,)\n",
      "pool_idx = (2800,)\n",
      "train_idx = (3400,)\n",
      "Epoch 1/1\n",
      "3400/3400 [==============================] - 26s 8ms/step - loss: 1.2707 - acc: 0.6376\n",
      "Accuracy after query 3400: 0.7000\n",
      "batch_idx = (200,)\n",
      "pool_idx = (2600,)\n",
      "train_idx = (3600,)\n",
      "Epoch 1/1\n",
      "3600/3600 [==============================] - 33s 9ms/step - loss: 1.2930 - acc: 0.5983\n",
      "Accuracy after query 3600: 0.4500\n",
      "batch_idx = (200,)\n",
      "pool_idx = (2400,)\n",
      "train_idx = (3800,)\n",
      "Epoch 1/1\n",
      "3800/3800 [==============================] - 34s 9ms/step - loss: 1.6284 - acc: 0.4808\n",
      "Accuracy after query 3800: 0.7000\n",
      "batch_idx = (200,)\n",
      "pool_idx = (2200,)\n",
      "train_idx = (4000,)\n",
      "Epoch 1/1\n",
      "4000/4000 [==============================] - 34s 9ms/step - loss: 1.3214 - acc: 0.6110\n",
      "Accuracy after query 4000: 0.7600\n",
      "batch_idx = (200,)\n",
      "pool_idx = (2000,)\n",
      "train_idx = (4200,)\n",
      "Epoch 1/1\n",
      "4200/4200 [==============================] - 33s 8ms/step - loss: 0.9422 - acc: 0.7460\n",
      "Accuracy after query 4200: 0.8400\n",
      "batch_idx = (200,)\n",
      "pool_idx = (1800,)\n",
      "train_idx = (4400,)\n",
      "Epoch 1/1\n",
      "4400/4400 [==============================] - 36s 8ms/step - loss: 0.7926 - acc: 0.7702\n",
      "Accuracy after query 4400: 0.8000\n",
      "batch_idx = (200,)\n",
      "pool_idx = (1600,)\n",
      "train_idx = (4600,)\n",
      "Epoch 1/1\n",
      "4600/4600 [==============================] - 36s 8ms/step - loss: 0.8069 - acc: 0.7404\n",
      "Accuracy after query 4600: 0.7500\n",
      "batch_idx = (200,)\n",
      "pool_idx = (1400,)\n",
      "train_idx = (4800,)\n",
      "Epoch 1/1\n",
      "4800/4800 [==============================] - 40s 8ms/step - loss: 1.0668 - acc: 0.6371\n",
      "Accuracy after query 4800: 0.6800\n",
      "batch_idx = (200,)\n",
      "pool_idx = (1200,)\n",
      "train_idx = (5000,)\n",
      "Epoch 1/1\n",
      "5000/5000 [==============================] - 41s 8ms/step - loss: 1.0948 - acc: 0.6392\n",
      "Accuracy after query 5000: 0.7900\n",
      "batch_idx = (200,)\n",
      "pool_idx = (1000,)\n",
      "train_idx = (5200,)\n",
      "Epoch 1/1\n",
      "5200/5200 [==============================] - 34s 7ms/step - loss: 0.8753 - acc: 0.7369\n",
      "Accuracy after query 5200: 0.8800\n",
      "batch_idx = (200,)\n",
      "pool_idx = (800,)\n",
      "train_idx = (5400,)\n",
      "Epoch 1/1\n",
      "5400/5400 [==============================] - 39s 7ms/step - loss: 0.7585 - acc: 0.7585\n",
      "Accuracy after query 5400: 0.7800\n",
      "batch_idx = (200,)\n",
      "pool_idx = (600,)\n",
      "train_idx = (5600,)\n",
      "Epoch 1/1\n",
      "5600/5600 [==============================] - 38s 7ms/step - loss: 0.7208 - acc: 0.7796\n",
      "Accuracy after query 5600: 0.8900\n",
      "batch_idx = (200,)\n",
      "pool_idx = (400,)\n",
      "train_idx = (5800,)\n",
      "Epoch 1/1\n",
      "5800/5800 [==============================] - 38s 7ms/step - loss: 0.7416 - acc: 0.7519\n",
      "Accuracy after query 5800: 0.8000\n",
      "batch_idx = (200,)\n",
      "pool_idx = (200,)\n",
      "train_idx = (6000,)\n",
      "Epoch 1/1\n",
      "6000/6000 [==============================] - 41s 7ms/step - loss: 0.7099 - acc: 0.7832\n",
      "Accuracy after query 6000: 0.9100\n"
     ]
    }
   ],
   "source": [
    "#train_idx = idx\n",
    "pool_idx = np.setdiff1d(range(len(X_pool)),idx)\n",
    "\n",
    "random_acc_list = []\n",
    "y_true = [ elem.argmax() for elem in y_test]\n",
    "\n",
    "stop_training = len(X_pool)+1\n",
    "for index in range(train_size,stop_training,step):  \n",
    "    \n",
    "    if index == train_size:\n",
    "        train_idx = idx\n",
    "    else:\n",
    "        batch_idx = np.random.choice(pool_idx, size=step, replace=False)\n",
    "        train_idx = np.append(train_idx, batch_idx)\n",
    "\n",
    "        print(\"batch_idx = {0}\".format(batch_idx.shape))\n",
    "    print(\"pool_idx = {0}\".format(pool_idx.shape))\n",
    "    print(\"train_idx = {0}\".format(train_idx.shape))\n",
    "    \n",
    "    history = model.fit(X_pool[train_idx], y_pool[train_idx], \n",
    "                    batch_size=batch_size, \n",
    "                    epochs=num_epochs, \n",
    "                    verbose=1, \n",
    "                    callbacks=None, validation_split=0.0, \n",
    "                    validation_data=None, shuffle=True, \n",
    "                    class_weight=None, sample_weight=None, \n",
    "                    initial_epoch=0, steps_per_epoch=None,\n",
    "                    validation_steps=None)\n",
    "    \n",
    "    pool_idx = np.setdiff1d(pool_idx, train_idx)\n",
    "\n",
    "    pred = model.predict(x=X_test)\n",
    "    y_pred = [ elem.argmax() for elem in pred]\n",
    "    acc1= accuracy_score(y_pred,y_true)\n",
    "    \n",
    "    random_acc_list.append(acc1)\n",
    "    print('Accuracy after query {n}: {acc:0.4f}'.format(n=index , acc=acc1))"
   ]
  },
  {
   "cell_type": "code",
   "execution_count": 8,
   "metadata": {},
   "outputs": [
    {
     "data": {
      "text/plain": [
       "[0.63,\n",
       " 0.68,\n",
       " 0.69,\n",
       " 0.57,\n",
       " 0.42,\n",
       " 0.58,\n",
       " 0.7,\n",
       " 0.7,\n",
       " 0.45,\n",
       " 0.7,\n",
       " 0.76,\n",
       " 0.84,\n",
       " 0.8,\n",
       " 0.75,\n",
       " 0.68,\n",
       " 0.79,\n",
       " 0.88,\n",
       " 0.78,\n",
       " 0.89,\n",
       " 0.8,\n",
       " 0.91]"
      ]
     },
     "execution_count": 8,
     "metadata": {},
     "output_type": "execute_result"
    }
   ],
   "source": [
    "random_acc_list"
   ]
  },
  {
   "cell_type": "code",
   "execution_count": 9,
   "metadata": {
    "scrolled": true
   },
   "outputs": [
    {
     "ename": "KeyError",
     "evalue": "2000",
     "output_type": "error",
     "traceback": [
      "\u001b[0;31m---------------------------------------------------------------------------\u001b[0m",
      "\u001b[0;31mKeyError\u001b[0m                                  Traceback (most recent call last)",
      "\u001b[0;32m<ipython-input-9-3b31c6dd805f>\u001b[0m in \u001b[0;36m<module>\u001b[0;34m()\u001b[0m\n\u001b[1;32m      3\u001b[0m \u001b[0msns\u001b[0m\u001b[0;34m.\u001b[0m\u001b[0mset_style\u001b[0m\u001b[0;34m(\u001b[0m\u001b[0;34m\"whitegrid\"\u001b[0m\u001b[0;34m)\u001b[0m\u001b[0;34m\u001b[0m\u001b[0m\n\u001b[1;32m      4\u001b[0m \u001b[0mplt\u001b[0m\u001b[0;34m.\u001b[0m\u001b[0mfigure\u001b[0m\u001b[0;34m(\u001b[0m\u001b[0mfigsize\u001b[0m\u001b[0;34m=\u001b[0m\u001b[0;34m(\u001b[0m\u001b[0;36m15\u001b[0m\u001b[0;34m,\u001b[0m\u001b[0;36m8\u001b[0m\u001b[0;34m)\u001b[0m\u001b[0;34m)\u001b[0m\u001b[0;34m\u001b[0m\u001b[0m\n\u001b[0;32m----> 5\u001b[0;31m \u001b[0msns\u001b[0m\u001b[0;34m.\u001b[0m\u001b[0mpointplot\u001b[0m\u001b[0;34m(\u001b[0m\u001b[0mx\u001b[0m\u001b[0;34m=\u001b[0m\u001b[0mrange\u001b[0m\u001b[0;34m(\u001b[0m\u001b[0mtrain_size\u001b[0m\u001b[0;34m,\u001b[0m\u001b[0mstop_training\u001b[0m\u001b[0;34m,\u001b[0m\u001b[0mstep\u001b[0m\u001b[0;34m)\u001b[0m\u001b[0;34m,\u001b[0m \u001b[0my\u001b[0m\u001b[0;34m=\u001b[0m\u001b[0mrandom_acc_list\u001b[0m\u001b[0;34m[\u001b[0m\u001b[0;34m:\u001b[0m\u001b[0;36m20\u001b[0m\u001b[0;34m]\u001b[0m\u001b[0;34m,\u001b[0m\u001b[0mmarkers\u001b[0m\u001b[0;34m=\u001b[0m\u001b[0;34m\"o\"\u001b[0m\u001b[0;34m,\u001b[0m\u001b[0mlinestyles\u001b[0m\u001b[0;34m=\u001b[0m\u001b[0;34m\"-\"\u001b[0m\u001b[0;34m)\u001b[0m\u001b[0;34m\u001b[0m\u001b[0m\n\u001b[0m\u001b[1;32m      6\u001b[0m \u001b[0mplt\u001b[0m\u001b[0;34m.\u001b[0m\u001b[0mgrid\u001b[0m\u001b[0;34m(\u001b[0m\u001b[0mTrue\u001b[0m\u001b[0;34m)\u001b[0m\u001b[0;34m\u001b[0m\u001b[0m\n",
      "\u001b[0;32m/home/jayati/anaconda3/envs/python2/lib/python2.7/site-packages/seaborn/categorical.pyc\u001b[0m in \u001b[0;36mpointplot\u001b[0;34m(x, y, hue, data, order, hue_order, estimator, ci, n_boot, units, markers, linestyles, dodge, join, scale, orient, color, palette, errwidth, capsize, ax, **kwargs)\u001b[0m\n\u001b[1;32m   3141\u001b[0m                             \u001b[0mestimator\u001b[0m\u001b[0;34m,\u001b[0m \u001b[0mci\u001b[0m\u001b[0;34m,\u001b[0m \u001b[0mn_boot\u001b[0m\u001b[0;34m,\u001b[0m \u001b[0munits\u001b[0m\u001b[0;34m,\u001b[0m\u001b[0;34m\u001b[0m\u001b[0m\n\u001b[1;32m   3142\u001b[0m                             \u001b[0mmarkers\u001b[0m\u001b[0;34m,\u001b[0m \u001b[0mlinestyles\u001b[0m\u001b[0;34m,\u001b[0m \u001b[0mdodge\u001b[0m\u001b[0;34m,\u001b[0m \u001b[0mjoin\u001b[0m\u001b[0;34m,\u001b[0m \u001b[0mscale\u001b[0m\u001b[0;34m,\u001b[0m\u001b[0;34m\u001b[0m\u001b[0m\n\u001b[0;32m-> 3143\u001b[0;31m                             orient, color, palette, errwidth, capsize)\n\u001b[0m\u001b[1;32m   3144\u001b[0m \u001b[0;34m\u001b[0m\u001b[0m\n\u001b[1;32m   3145\u001b[0m     \u001b[0;32mif\u001b[0m \u001b[0max\u001b[0m \u001b[0;32mis\u001b[0m \u001b[0mNone\u001b[0m\u001b[0;34m:\u001b[0m\u001b[0;34m\u001b[0m\u001b[0m\n",
      "\u001b[0;32m/home/jayati/anaconda3/envs/python2/lib/python2.7/site-packages/seaborn/categorical.pyc\u001b[0m in \u001b[0;36m__init__\u001b[0;34m(self, x, y, hue, data, order, hue_order, estimator, ci, n_boot, units, markers, linestyles, dodge, join, scale, orient, color, palette, errwidth, capsize)\u001b[0m\n\u001b[1;32m   1665\u001b[0m         \u001b[0;34m\"\"\"Initialize the plotter.\"\"\"\u001b[0m\u001b[0;34m\u001b[0m\u001b[0m\n\u001b[1;32m   1666\u001b[0m         self.establish_variables(x, y, hue, data, orient,\n\u001b[0;32m-> 1667\u001b[0;31m                                  order, hue_order, units)\n\u001b[0m\u001b[1;32m   1668\u001b[0m         \u001b[0mself\u001b[0m\u001b[0;34m.\u001b[0m\u001b[0mestablish_colors\u001b[0m\u001b[0;34m(\u001b[0m\u001b[0mcolor\u001b[0m\u001b[0;34m,\u001b[0m \u001b[0mpalette\u001b[0m\u001b[0;34m,\u001b[0m \u001b[0;36m1\u001b[0m\u001b[0;34m)\u001b[0m\u001b[0;34m\u001b[0m\u001b[0m\n\u001b[1;32m   1669\u001b[0m         \u001b[0mself\u001b[0m\u001b[0;34m.\u001b[0m\u001b[0mestimate_statistic\u001b[0m\u001b[0;34m(\u001b[0m\u001b[0mestimator\u001b[0m\u001b[0;34m,\u001b[0m \u001b[0mci\u001b[0m\u001b[0;34m,\u001b[0m \u001b[0mn_boot\u001b[0m\u001b[0;34m)\u001b[0m\u001b[0;34m\u001b[0m\u001b[0m\n",
      "\u001b[0;32m/home/jayati/anaconda3/envs/python2/lib/python2.7/site-packages/seaborn/categorical.pyc\u001b[0m in \u001b[0;36mestablish_variables\u001b[0;34m(self, x, y, hue, data, orient, order, hue_order, units)\u001b[0m\n\u001b[1;32m    201\u001b[0m                 \u001b[0;31m# Group the numeric data\u001b[0m\u001b[0;34m\u001b[0m\u001b[0;34m\u001b[0m\u001b[0m\n\u001b[1;32m    202\u001b[0m                 plot_data, value_label = self._group_longform(vals, groups,\n\u001b[0;32m--> 203\u001b[0;31m                                                               group_names)\n\u001b[0m\u001b[1;32m    204\u001b[0m \u001b[0;34m\u001b[0m\u001b[0m\n\u001b[1;32m    205\u001b[0m                 \u001b[0;31m# Now handle the hue levels for nested ordering\u001b[0m\u001b[0;34m\u001b[0m\u001b[0;34m\u001b[0m\u001b[0m\n",
      "\u001b[0;32m/home/jayati/anaconda3/envs/python2/lib/python2.7/site-packages/seaborn/categorical.pyc\u001b[0m in \u001b[0;36m_group_longform\u001b[0;34m(self, vals, grouper, order)\u001b[0m\n\u001b[1;32m    243\u001b[0m \u001b[0;34m\u001b[0m\u001b[0m\n\u001b[1;32m    244\u001b[0m         \u001b[0;31m# Group the val data\u001b[0m\u001b[0;34m\u001b[0m\u001b[0;34m\u001b[0m\u001b[0m\n\u001b[0;32m--> 245\u001b[0;31m         \u001b[0mgrouped_vals\u001b[0m \u001b[0;34m=\u001b[0m \u001b[0mvals\u001b[0m\u001b[0;34m.\u001b[0m\u001b[0mgroupby\u001b[0m\u001b[0;34m(\u001b[0m\u001b[0mgrouper\u001b[0m\u001b[0;34m)\u001b[0m\u001b[0;34m\u001b[0m\u001b[0m\n\u001b[0m\u001b[1;32m    246\u001b[0m         \u001b[0mout_data\u001b[0m \u001b[0;34m=\u001b[0m \u001b[0;34m[\u001b[0m\u001b[0;34m]\u001b[0m\u001b[0;34m\u001b[0m\u001b[0m\n\u001b[1;32m    247\u001b[0m         \u001b[0;32mfor\u001b[0m \u001b[0mg\u001b[0m \u001b[0;32min\u001b[0m \u001b[0morder\u001b[0m\u001b[0;34m:\u001b[0m\u001b[0;34m\u001b[0m\u001b[0m\n",
      "\u001b[0;32m/home/jayati/anaconda3/envs/python2/lib/python2.7/site-packages/pandas/core/generic.pyc\u001b[0m in \u001b[0;36mgroupby\u001b[0;34m(self, by, axis, level, as_index, sort, group_keys, squeeze, observed, **kwargs)\u001b[0m\n\u001b[1;32m   6657\u001b[0m         return groupby(self, by=by, axis=axis, level=level, as_index=as_index,\n\u001b[1;32m   6658\u001b[0m                        \u001b[0msort\u001b[0m\u001b[0;34m=\u001b[0m\u001b[0msort\u001b[0m\u001b[0;34m,\u001b[0m \u001b[0mgroup_keys\u001b[0m\u001b[0;34m=\u001b[0m\u001b[0mgroup_keys\u001b[0m\u001b[0;34m,\u001b[0m \u001b[0msqueeze\u001b[0m\u001b[0;34m=\u001b[0m\u001b[0msqueeze\u001b[0m\u001b[0;34m,\u001b[0m\u001b[0;34m\u001b[0m\u001b[0m\n\u001b[0;32m-> 6659\u001b[0;31m                        observed=observed, **kwargs)\n\u001b[0m\u001b[1;32m   6660\u001b[0m \u001b[0;34m\u001b[0m\u001b[0m\n\u001b[1;32m   6661\u001b[0m     def asfreq(self, freq, method=None, how=None, normalize=False,\n",
      "\u001b[0;32m/home/jayati/anaconda3/envs/python2/lib/python2.7/site-packages/pandas/core/groupby/groupby.pyc\u001b[0m in \u001b[0;36mgroupby\u001b[0;34m(obj, by, **kwds)\u001b[0m\n\u001b[1;32m   2150\u001b[0m         \u001b[0;32mraise\u001b[0m \u001b[0mTypeError\u001b[0m\u001b[0;34m(\u001b[0m\u001b[0;34m'invalid type: %s'\u001b[0m \u001b[0;34m%\u001b[0m \u001b[0mtype\u001b[0m\u001b[0;34m(\u001b[0m\u001b[0mobj\u001b[0m\u001b[0;34m)\u001b[0m\u001b[0;34m)\u001b[0m\u001b[0;34m\u001b[0m\u001b[0m\n\u001b[1;32m   2151\u001b[0m \u001b[0;34m\u001b[0m\u001b[0m\n\u001b[0;32m-> 2152\u001b[0;31m     \u001b[0;32mreturn\u001b[0m \u001b[0mklass\u001b[0m\u001b[0;34m(\u001b[0m\u001b[0mobj\u001b[0m\u001b[0;34m,\u001b[0m \u001b[0mby\u001b[0m\u001b[0;34m,\u001b[0m \u001b[0;34m**\u001b[0m\u001b[0mkwds\u001b[0m\u001b[0;34m)\u001b[0m\u001b[0;34m\u001b[0m\u001b[0m\n\u001b[0m\u001b[1;32m   2153\u001b[0m \u001b[0;34m\u001b[0m\u001b[0m\n\u001b[1;32m   2154\u001b[0m \u001b[0;34m\u001b[0m\u001b[0m\n",
      "\u001b[0;32m/home/jayati/anaconda3/envs/python2/lib/python2.7/site-packages/pandas/core/groupby/groupby.pyc\u001b[0m in \u001b[0;36m__init__\u001b[0;34m(self, obj, keys, axis, level, grouper, exclusions, selection, as_index, sort, group_keys, squeeze, observed, **kwargs)\u001b[0m\n\u001b[1;32m    597\u001b[0m                                                     \u001b[0msort\u001b[0m\u001b[0;34m=\u001b[0m\u001b[0msort\u001b[0m\u001b[0;34m,\u001b[0m\u001b[0;34m\u001b[0m\u001b[0m\n\u001b[1;32m    598\u001b[0m                                                     \u001b[0mobserved\u001b[0m\u001b[0;34m=\u001b[0m\u001b[0mobserved\u001b[0m\u001b[0;34m,\u001b[0m\u001b[0;34m\u001b[0m\u001b[0m\n\u001b[0;32m--> 599\u001b[0;31m                                                     mutated=self.mutated)\n\u001b[0m\u001b[1;32m    600\u001b[0m \u001b[0;34m\u001b[0m\u001b[0m\n\u001b[1;32m    601\u001b[0m         \u001b[0mself\u001b[0m\u001b[0;34m.\u001b[0m\u001b[0mobj\u001b[0m \u001b[0;34m=\u001b[0m \u001b[0mobj\u001b[0m\u001b[0;34m\u001b[0m\u001b[0m\n",
      "\u001b[0;32m/home/jayati/anaconda3/envs/python2/lib/python2.7/site-packages/pandas/core/groupby/groupby.pyc\u001b[0m in \u001b[0;36m_get_grouper\u001b[0;34m(obj, key, axis, level, sort, observed, mutated, validate)\u001b[0m\n\u001b[1;32m   3289\u001b[0m                 \u001b[0min_axis\u001b[0m\u001b[0;34m,\u001b[0m \u001b[0mname\u001b[0m\u001b[0;34m,\u001b[0m \u001b[0mlevel\u001b[0m\u001b[0;34m,\u001b[0m \u001b[0mgpr\u001b[0m \u001b[0;34m=\u001b[0m \u001b[0mFalse\u001b[0m\u001b[0;34m,\u001b[0m \u001b[0mNone\u001b[0m\u001b[0;34m,\u001b[0m \u001b[0mgpr\u001b[0m\u001b[0;34m,\u001b[0m \u001b[0mNone\u001b[0m\u001b[0;34m\u001b[0m\u001b[0m\n\u001b[1;32m   3290\u001b[0m             \u001b[0;32melse\u001b[0m\u001b[0;34m:\u001b[0m\u001b[0;34m\u001b[0m\u001b[0m\n\u001b[0;32m-> 3291\u001b[0;31m                 \u001b[0;32mraise\u001b[0m \u001b[0mKeyError\u001b[0m\u001b[0;34m(\u001b[0m\u001b[0mgpr\u001b[0m\u001b[0;34m)\u001b[0m\u001b[0;34m\u001b[0m\u001b[0m\n\u001b[0m\u001b[1;32m   3292\u001b[0m         \u001b[0;32melif\u001b[0m \u001b[0misinstance\u001b[0m\u001b[0;34m(\u001b[0m\u001b[0mgpr\u001b[0m\u001b[0;34m,\u001b[0m \u001b[0mGrouper\u001b[0m\u001b[0;34m)\u001b[0m \u001b[0;32mand\u001b[0m \u001b[0mgpr\u001b[0m\u001b[0;34m.\u001b[0m\u001b[0mkey\u001b[0m \u001b[0;32mis\u001b[0m \u001b[0;32mnot\u001b[0m \u001b[0mNone\u001b[0m\u001b[0;34m:\u001b[0m\u001b[0;34m\u001b[0m\u001b[0m\n\u001b[1;32m   3293\u001b[0m             \u001b[0;31m# Add key to exclusions\u001b[0m\u001b[0;34m\u001b[0m\u001b[0;34m\u001b[0m\u001b[0m\n",
      "\u001b[0;31mKeyError\u001b[0m: 2000"
     ]
    }
   ],
   "source": [
    "from matplotlib import pyplot as plt\n",
    "import seaborn as sns\n",
    "sns.set_style(\"whitegrid\")\n",
    "plt.figure(figsize=(15,8))\n",
    "sns.pointplot(x=range(train_size,stop_training,step), y=random_acc_list[:20],markers=\"o\",linestyles=\"-\")\n",
    "plt.grid(True)\n"
   ]
  }
 ],
 "metadata": {
  "kernelspec": {
   "display_name": "Python 2",
   "language": "python",
   "name": "python2"
  },
  "language_info": {
   "codemirror_mode": {
    "name": "ipython",
    "version": 2
   },
   "file_extension": ".py",
   "mimetype": "text/x-python",
   "name": "python",
   "nbconvert_exporter": "python",
   "pygments_lexer": "ipython2",
   "version": "2.7.15"
  }
 },
 "nbformat": 4,
 "nbformat_minor": 2
}
